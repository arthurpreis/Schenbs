{
 "cells": [
  {
   "cell_type": "markdown",
   "metadata": {},
   "source": [
    "# Schenberg's movement equations "
   ]
  },
  {
   "cell_type": "code",
   "execution_count": 1,
   "metadata": {},
   "outputs": [],
   "source": [
    "using PyPlot, Statistics, LinearAlgebra\n"
   ]
  },
  {
   "cell_type": "markdown",
   "metadata": {},
   "source": [
    "## Physical constants"
   ]
  },
  {
   "cell_type": "code",
   "execution_count": 2,
   "metadata": {},
   "outputs": [],
   "source": [
    "kB = 1.38064852e-23        # m^2kgs^(-2)K^(-1). Boltzman constant\n",
    "hbar = 6.62607004e-34/2π;  # m^2kg/s. Reduced Plank's constant\n"
   ]
  },
  {
   "cell_type": "markdown",
   "metadata": {},
   "source": [
    "## Sphere parameters"
   ]
  },
  {
   "cell_type": "code",
   "execution_count": 3,
   "metadata": {},
   "outputs": [
    {
     "data": {
      "text/plain": [
       "0.008189595678431149"
      ]
     },
     "execution_count": 3,
     "metadata": {},
     "output_type": "execute_result"
    }
   ],
   "source": [
    "R = 0.325                                              # m. Sphere radius\n",
    "MS = 1150                                              # kg. Sphere mass\n",
    "V = 4π/3*R^3                                           # m^3. Sphere volume\n",
    "ρ = 8065.68                                            # kg/m^3. Sphere density\n",
    "f0n =[3172.5, 3183.0, 3213.6, 3222.9, 3240.0]          # measured natural frequencies\n",
    "ω0n = 2π*f0n\n",
    "f0 = mean(f0n)                                         # mean of natural frequencies, transducers frequencies\n",
    "ω0 = 2π*f0                                             # angular frequencies\n",
    "#ω0n = ω0*ones(5) # teste as frequências degeneradas retirar depois\n",
    "Q = 1.23e6                                             # mechanical Q\n",
    "T = 4.2                                                # Sphere temperature \n",
    "α = 2.86239                                            # radial component α(r) in r=R \n",
    "χ = 0.60138            \n",
    "Meff = 5/6*(χ/2)*V*ρ;                                  # kg. effective mass of the sphere\n",
    "β = ω0/2Q \n"
   ]
  },
  {
   "cell_type": "markdown",
   "metadata": {},
   "source": [
    "## Ressonator's parameters"
   ]
  },
  {
   "cell_type": "code",
   "execution_count": 4,
   "metadata": {},
   "outputs": [],
   "source": [
    "MR2 = 0.0000123                                       # kg. second ressonator mass\n",
    "MR1 = sqrt(Meff*MR2)                                  # kg. first ressonator mass                          \n",
    "μ = sqrt(MR1/Meff)                                    # mass ratio\n",
    "ν = sqrt(MS/Meff)\n",
    "ωR1 = ω0\n",
    "ωR2 = ω0\n",
    "QR1 = 10^6\n",
    "QR2 = 10^5;\n"
   ]
  },
  {
   "cell_type": "markdown",
   "metadata": {},
   "source": [
    "## Mechanical coefficients"
   ]
  },
  {
   "cell_type": "code",
   "execution_count": 5,
   "metadata": {},
   "outputs": [],
   "source": [
    "nR = 6                          # number of transducers\n",
    "nm = 5                          # number of sphere modes\n",
    "kS = MS*ω0n.^2                   # kg/s^2. sphere spring constant\n",
    "kR1 = MR1*ωR1^2                 # kg/s^2. first ressonator spring constant\n",
    "kR2 = MR2*ωR2^2                 # kg/s^2. second ressonator spring constant\n",
    "HS=MS*ω0/Q                      # coeficiente de amortecimento da esfera em kg m/s\n",
    "HR1=MR1*ωR1/QR1                 # coeficiente de amortecimento do primeiro ressonador em kg m/s\n",
    "HR2=MR2*ωR2/QR2;                # coeficiente de amortecimento do segundo ressonador em kg m/s\n"
   ]
  },
  {
   "cell_type": "markdown",
   "metadata": {},
   "source": [
    "## Model matrix\n",
    "### Ressonators position"
   ]
  },
  {
   "cell_type": "markdown",
   "metadata": {},
   "source": [
    "### Cartesian coordinates of transducer's positions\n",
    "These expressions comes from the maxima program $\\sf BMatrixProp.wxmx$"
   ]
  },
  {
   "cell_type": "code",
   "execution_count": 6,
   "metadata": {},
   "outputs": [
    {
     "data": {
      "text/plain": [
       "6-element Array{Float64,1}:\n",
       " 0.18759247408507992\n",
       " 0.18759247408507992\n",
       " 0.18759247408507992\n",
       " 0.7946544722917662\n",
       " 0.7946544722917662\n",
       " 0.7946544722917662"
      ]
     },
     "execution_count": 6,
     "metadata": {},
     "output_type": "execute_result"
    }
   ],
   "source": [
    "phi = (1+√5)/2   # golden ratio\n",
    "x = [-(sqrt(3)*phi*sqrt(5*phi^2+4*phi+1)-2*phi-1)/(2*sqrt(phi^2+1)*sqrt(5*phi^2+4*phi+1)),\n",
    "     -(phi^2+phi)/(sqrt(phi^2+1)*sqrt(5*phi^2+4*phi+1)),\n",
    "     (sqrt(3)*phi*sqrt(5*phi^2+4*phi+1)+2*phi+1)/(2*sqrt(phi^2+1)*sqrt(5*phi^2+4*phi+1)),\n",
    "     (sqrt(3)*sqrt(5*phi^2+4*phi+1)-phi^2)/(2*sqrt(phi^2+1)*sqrt(5*phi^2+4*phi+1)),\n",
    "     -(sqrt(3)*sqrt(5*phi^2+4*phi+1)+phi^2)/(2*sqrt(phi^2+1)*sqrt(5*phi^2+4*phi+1)),\n",
    "     phi^2/(sqrt(phi^2+1)*sqrt(5*phi^2+4*phi+1))]\n",
    "y = [(phi*sqrt(5*phi^2+4*phi+1)+2*sqrt(3)*phi+sqrt(3))/(2*sqrt(phi^2+1)*sqrt(5*phi^2+4*phi+1)),\n",
    "     -(sqrt(3)*phi^2+sqrt(3)*phi)/(sqrt(phi^2+1)*sqrt(5*phi^2+4*phi+1)),\n",
    "     -(phi*sqrt(5*phi^2+4*phi+1)-2*sqrt(3)*phi-sqrt(3))/(2*sqrt(phi^2+1)*sqrt(5*phi^2+4*phi+1)),\n",
    "     -(sqrt(5*phi^2+4*phi+1)+sqrt(3)*phi^2)/(2*sqrt(phi^2+1)*sqrt(5*phi^2+4*phi+1)),\n",
    "     (sqrt(5*phi^2+4*phi+1)-sqrt(3)*phi^2)/(2*sqrt(phi^2+1)*sqrt(5*phi^2+4*phi+1)),\n",
    "     (sqrt(3)*phi^2)/(sqrt(phi^2+1)*sqrt(5*phi^2+4*phi+1))]\n",
    "z = [phi/(sqrt(phi^2+1)*sqrt(5*phi^2+4*phi+1)),\n",
    "     -(phi^2-2*phi-1)/(sqrt(phi^2+1)*sqrt(5*phi^2+4*phi+1)),\n",
    "       phi/(sqrt(phi^2+1)*sqrt(5*phi^2+4*phi+1)),\n",
    "      (2*phi^2+phi)/(sqrt(phi^2+1)*sqrt(5*phi^2+4*phi+1)),\n",
    "      (2*phi^2+phi)/(sqrt(phi^2+1)*sqrt(5*phi^2+4*phi+1)),\n",
    "      (phi^2+2*phi+1)/(sqrt(phi^2+1)*sqrt(5*phi^2+4*phi+1))]\n"
   ]
  },
  {
   "cell_type": "markdown",
   "metadata": {},
   "source": [
    "The $\\phi$ angles are"
   ]
  },
  {
   "cell_type": "code",
   "execution_count": 7,
   "metadata": {},
   "outputs": [
    {
     "data": {
      "text/plain": [
       "6-element Array{Float64,1}:\n",
       "  120.00000000000001\n",
       " -120.00000000000001\n",
       "   -1.5016542219611606e-15\n",
       "  -60.00000000000001\n",
       "  180.0\n",
       "   59.99999999999999"
      ]
     },
     "execution_count": 7,
     "metadata": {},
     "output_type": "execute_result"
    }
   ],
   "source": [
    "ϕ = atan.(y,x)*180/π\n"
   ]
  },
  {
   "cell_type": "markdown",
   "metadata": {},
   "source": [
    "The $\\theta$ angles are"
   ]
  },
  {
   "cell_type": "code",
   "execution_count": 8,
   "metadata": {},
   "outputs": [
    {
     "data": {
      "text/plain": [
       "6-element Array{Float64,1}:\n",
       " 79.18768303642831\n",
       " 79.18768303642831\n",
       " 79.18768303642831\n",
       " 37.377368140649686\n",
       " 37.377368140649686\n",
       " 37.377368140649686"
      ]
     },
     "execution_count": 8,
     "metadata": {},
     "output_type": "execute_result"
    }
   ],
   "source": [
    "θ = acos.(z)*180/π\n"
   ]
  },
  {
   "cell_type": "markdown",
   "metadata": {},
   "source": [
    "### Model matrix"
   ]
  },
  {
   "cell_type": "code",
   "execution_count": 9,
   "metadata": {},
   "outputs": [],
   "source": [
    "B = zeros(5,6)\n",
    "B[1,:] = sqrt(15/16π)*(x.^2-y.^2)\n",
    "B[2,:] = sqrt(15/16π)*(2*x.*y)\n",
    "B[3,:] = sqrt(15/16π)*(2*y.*z)\n",
    "B[4,:] = sqrt(15/16π)*(2*x.*z)\n",
    "B[5,:] = sqrt(15/16π)*(3*z.^2 .- 1)/(sqrt(3));\n"
   ]
  },
  {
   "cell_type": "markdown",
   "metadata": {},
   "source": [
    "### B transpose"
   ]
  },
  {
   "cell_type": "code",
   "execution_count": 10,
   "metadata": {},
   "outputs": [
    {
     "data": {
      "text/plain": [
       "5×5 Array{Float64,2}:\n",
       "  1.0          -2.03459e-16   8.71967e-17  -9.44631e-17   3.6332e-17\n",
       " -2.03459e-16   1.0          -2.90656e-17  -1.45328e-17  -2.90656e-17\n",
       "  8.71967e-17  -2.90656e-17   1.0           5.81311e-17   0.0\n",
       " -9.44631e-17  -1.45328e-17   5.81311e-17   1.0          -2.90656e-17\n",
       "  3.6332e-17   -2.90656e-17   0.0          -2.90656e-17   1.0"
      ]
     },
     "execution_count": 10,
     "metadata": {},
     "output_type": "execute_result"
    }
   ],
   "source": [
    "BT = B'\n",
    "B*BT/(3/2π)\n"
   ]
  },
  {
   "cell_type": "markdown",
   "metadata": {},
   "source": [
    "## Eletronic"
   ]
  },
  {
   "cell_type": "code",
   "execution_count": 11,
   "metadata": {},
   "outputs": [],
   "source": [
    "F3T = 3206.3                                  # frequência do transdutor \n",
    "w3T = 2π*F3T                                  # frequência angular do transdutor\n",
    "w3Tsq = w3T^2                                 # quadrado da frequência angular do transdutor\n",
    "\n",
    "FO1 = 3172.5\n",
    "FO2 = 3240.0                                  # f- e f+ do transdutor\n",
    "wO1 = 2π*FO1        \n",
    "wO2 = 2π*FO2\n",
    "\n",
    "Fpump = 10e9                                  # frequência da bomba\n",
    "wpump = 2π*Fpump                              # frequência angular da bomba\n",
    "wpumpsq = wpump^2                             # quadrado da frequência angular da bomba\n",
    "Betae = 0.3                                   # fator de acoplamento elétrico\n",
    "dfdx = 7.26e14                                # shift de frequência com a distância\n",
    "Pinc = 5e-9                                   # potência incidente do oscilador\n",
    "Tamp = 8                                      # temperatura de ruído do amplificador\n",
    "Qe = 3e5                                      # electrical quality factor\n",
    "Spm = 10^(-13.0)                              # densidade espectral do ruído de fase\n",
    "Sam = 10^(-14.0)                              # densidade espectral do ruído de amplitude\n",
    "Lamp = 0.5\n",
    "Sseries = Lamp*(Tamp*kB/Pinc)*(Fpump/2/Qe/dfdx)^2  # densidade espectral do ruído de \"series\"\n",
    "\n",
    "Qfac = (Qe^2/(1+4*Qe^2*ω0^2/wpump^2))^0.5\n",
    "beta0 = (4*Betae*Pinc)/((1+Betae)*MR2*ω0^2*wpump)*((2*Qfac*dfdx)/(Fpump))^2\n",
    "w3 = w3T*(1-(3*3^0.5*beta0)/(16))^0.5\n",
    "\n",
    "Dw = 50000*2π\n",
    "DUO1 = (Dw+wO1)/wpump  \n",
    "DLO1 = (Dw-wO1)/wpump\n",
    "D0 = Dw/wpump\n",
    "\n",
    "ab1 = w3^2/wO1\n",
    "ac1 = wO1^2/wpump^2 \n",
    "ad1 = (1+4*Qe^2*ac1)\n",
    "bb1 = (beta0*ab1*ad1)\n",
    "bb3 = 2*(1+4*Qe^2*D0^2)\n",
    "bbO1 = bb1/bb3  \n",
    "bcU1 = (2*Qe*DUO1)^2+1\n",
    "bcL1 = (2*Qe*DLO1)^2+1 \n",
    "bcUO1 = 1/bcU1\n",
    "bcLO1 = 1/bcL1  \n",
    "\n",
    "ZmR = -1*bbO1*(bcUO1-bcLO1)\n",
    "ZmI = -im*(bbO1*2*Qe*DUO1*(bcUO1-bcLO1))\n",
    "\n",
    "Sbaction = Pinc^2/2/wpump^2*(2*Qe*dfdx/Fpump)^2*Sam;       # double sided  \n"
   ]
  },
  {
   "cell_type": "markdown",
   "metadata": {},
   "source": [
    "## Detector model\n",
    "### Solution of the movement equation\n",
    "The movement equation is (see Merkowitz & Johnson (1995), Cesar Costa (2005), Claudemir (2006))\n",
    "$$\n",
    " {\\bf M}'\\ddot{\\boldsymbol{x}}+{\\bf H}'\\dot{\\boldsymbol{x}}+{\\bf K}'\\boldsymbol{x}={\\bf P}\\boldsymbol{F}\n",
    "$$\n",
    "where\n",
    "$$\n",
    "    \\boldsymbol{x}=\\left[\n",
    "        \\begin{array}{c}\n",
    "            \\boldsymbol{a}\\\\ \\boldsymbol{q}_{R_1} \\\\ \\boldsymbol{q}_{R_2} \n",
    "        \\end{array}\\right]\n",
    "$$\n",
    "$$\n",
    "    {\\bf M}'=\\left[\n",
    "        \\begin{array}{ccc}\n",
    "            M_S\\,{\\bf I}              & {\\bf 0}         & {\\bf 0} \\\\\n",
    "            M_{R_1}\\alpha {\\bf B}^T   & M_{R_1}{\\bf I}  & {\\bf 0} \\\\\n",
    "            M_{R_2}\\alpha {\\bf B}^T   & M_{R_2}{\\bf I}  & M_{R_2}{\\bf I}\n",
    "        \\end{array}\\right]\n",
    "$$ \n",
    "Let us rewrite this matrix in term of the effective mass $M_S=\\nu^2 M_{\\rm eff}$ and the ratios \n",
    "$$\\mu^2=\\frac{M_{R_1}}{M_{\\rm eff}}=\\frac{M_{R_2}}{M_{R_1}}$$\n",
    "$$\n",
    "    {\\bf M}'=M_{\\rm eff}\\left[\n",
    "        \\begin{array}{ccc}\n",
    "            \\nu^2\\,{\\bf I}              & {\\bf 0}         & {\\bf 0} \\\\\n",
    "            \\mu^2\\alpha {\\bf B}^T     & \\mu^2{\\bf I}  & {\\bf 0} \\\\\n",
    "            \\mu^4\\alpha {\\bf B}^T     & \\mu^4{\\bf I}  & \\mu^4{\\bf I}\n",
    "        \\end{array}\\right]=M_{\\rm eff}{\\bf M}\n",
    "$$\n",
    "$$\n",
    "    {\\bf K}'=\\left[\n",
    "        \\begin{array}{ccc}\n",
    "            {\\rm diag}(\\boldsymbol{k}_S)  & -k_{R_1}\\alpha{\\bf B} & {\\bf 0} \\\\\n",
    "            {\\bf 0}   & k_{R_1}{\\bf I}        & -k_{R_2}{\\bf I} \\\\\n",
    "            {\\bf 0}   & {\\bf 0}               & k_{R_2}{\\bf I}\n",
    "        \\end{array}\\right]\n",
    "$$\n",
    "or\n",
    "$$\n",
    "    {\\bf K}'=M_{\\rm eff}\\omega_0^2\\left[\n",
    "       \\begin{array}{ccc}\n",
    "       \\nu^2{\\rm diag}\\left(\\frac{\\omega_n^2}{\\omega_0^2}\\right)  & -\\mu^2\\alpha{\\bf B} & {\\bf 0} \\\\\n",
    "            {\\bf 0}   & \\mu^2{\\bf I}        & -\\mu^4{\\bf I} \\\\\n",
    "            {\\bf 0}   & {\\bf 0}               & \\mu^4{\\bf I}\n",
    "       \\end{array}\\right]=M_{\\rm eff}\\omega_0^2{\\bf K}\n",
    "$$\n",
    "$$\n",
    "    {\\bf H}'=\\left[\n",
    "        \\begin{array}{ccc}\n",
    "            {\\rm diag}(\\boldsymbol{H}_S)      & -H_{R_1}\\alpha{\\bf B} & {\\bf 0} \\\\\n",
    "            {\\bf 0}   & H_{R_1}{\\bf I}        & -H_{R_2}{\\bf I} \\\\\n",
    "            {\\bf 0}   & {\\bf 0}               & H_{R_2}{\\bf I}\n",
    "        \\end{array}\\right]\n",
    "$$\n",
    "or\n",
    "$$\n",
    "    {\\bf H}'=M_{\\rm eff}\\frac{\\omega_0}{Q}\\left[\n",
    "        \\begin{array}{ccc}\n",
    "        \\nu^2{\\rm diag}\\left(\\frac{\\omega_nQ}{\\omega_0Q_n}\\right) & -\\mu^2\\frac{Q}{Q_{R_1}}\\alpha{\\bf B} & {\\bf 0} \\\\\n",
    "            {\\bf 0}   & \\mu^2\\frac{Q}{Q_{R_1}}{\\bf I}        & -\\mu^4\\frac{Q}{Q_{R_2}}{\\bf I} \\\\\n",
    "            {\\bf 0}   & {\\bf 0}               & \\mu^4\\frac{Q}{Q_{R_2}}{\\bf I}\n",
    "        \\end{array}\\right]=M_{\\rm eff}\\frac{\\omega_0}{Q}{\\bf H}\n",
    "$$\n",
    "We can see that if we approximate \n",
    "$$\n",
    "    \\frac{\\omega_n}{\\omega_0}=\\frac{Q}{Q_n},\\qquad\\frac{Q}{Q_{R_1}}=1,\\qquad\\frac{Q}{Q_{R_2}}=1\n",
    "$$\n",
    "Then ${\\bf H}={\\bf K}$ and \n",
    "$$\n",
    "    {\\bf P}=\\left[\n",
    "        \\begin{array}{ccc}\n",
    "            {\\bf I}  & -\\alpha{\\bf B} & {\\bf 0} \\\\\n",
    "            {\\bf 0}   & {\\bf I}       & -{\\bf I} \\\\\n",
    "            {\\bf 0}   & {\\bf 0}       & {\\bf I}\n",
    "        \\end{array}\\right]\n",
    "$$\n",
    "$$\n",
    "    \\boldsymbol{F}=\\left[\n",
    "        \\begin{array}{c}\n",
    "            \\boldsymbol{F}_S\\\\ \\boldsymbol{F}_{R_1} \\\\ \\boldsymbol{F}_{R_2} \n",
    "        \\end{array}\\right]\n",
    "$$\n",
    "The movement equation then reads\n",
    "$$\n",
    " M_{\\rm eff}{\\bf M}\\ddot{\\boldsymbol{x}}+M_{\\rm eff}\\frac{\\omega_0}{Q}{\\bf K}\\dot{\\boldsymbol{x}}+\n",
    " M_{\\rm eff}\\omega_0^2{\\bf K}\\boldsymbol{x}={\\bf P}\\boldsymbol{F}\n",
    "$$\n",
    "We will need to diagonalize the matrix ${\\bf M}^{-1}\\bf K$, but this matrix is not symmetric. In order to symmetrize it we change the coordinates defining $\\boldsymbol{x}={\\bf N}\\boldsymbol{y}$ where \n",
    "$$\n",
    "    {\\bf N}=\\left[\n",
    "        \\begin{array}{ccc}\n",
    "            {\\bf I}/\\nu  & {\\bf 0}        & {\\bf 0} \\\\\n",
    "            {\\bf 0}   & {\\bf I}/\\mu   & {\\bf 0} \\\\\n",
    "            {\\bf 0}   & {\\bf 0}                & {\\bf I}/\\mu^2\n",
    "        \\end{array}\\right]\n",
    "$$\n",
    "and pre multiply by $\\bf N$\n",
    "$$\n",
    " M_{\\rm eff}{\\bf NMN}\\ddot{\\boldsymbol{y}}+M_{\\rm eff}\\frac{\\omega_0}{Q}{\\bf NKN}\\dot{\\boldsymbol{y}}+\n",
    " M_{\\rm eff}\\omega_0^2{\\bf NKN}\\boldsymbol{y}={\\bf NP}\\boldsymbol{F}\n",
    "$$"
   ]
  },
  {
   "cell_type": "code",
   "execution_count": 12,
   "metadata": {},
   "outputs": [
    {
     "data": {
      "text/plain": [
       "eye (generic function with 1 method)"
      ]
     },
     "execution_count": 12,
     "metadata": {},
     "output_type": "execute_result"
    }
   ],
   "source": [
    "eye(n) = one(zeros(n,n)) \n"
   ]
  },
  {
   "cell_type": "code",
   "execution_count": 13,
   "metadata": {},
   "outputs": [],
   "source": [
    "N = [eye(nm)/ν        zeros(nm, nR)       zeros(nm, nR);\n",
    "     zeros(nR,nm)     eye(nR)/μ           zeros(nR,nR);\n",
    "     zeros(nR,nm)     zeros(nR,nR)        eye(nR)/μ^2]\n",
    "iN = N^-1;\n"
   ]
  },
  {
   "cell_type": "code",
   "execution_count": 14,
   "metadata": {},
   "outputs": [],
   "source": [
    "M = [ν^2*eye(nm) zeros(nm,nR) zeros(nm,nR);\n",
    "     μ^2*α*BT    μ^2*eye(nR)  zeros(nR, nR);\n",
    "     μ^4*α*BT    μ^4*eye(nR)  μ^4*eye(nR)]\n",
    "iM = M^-1;\n"
   ]
  },
  {
   "cell_type": "code",
   "execution_count": 15,
   "metadata": {},
   "outputs": [],
   "source": [
    "K = [ν^2*diagm(ω0n.^2 ./ ω0.^2)   -μ^2*α*B                 zeros(nm, nR);\n",
    "     zeros(nR,nm)                  μ^2*eye(nR)            -μ^4*eye(nR);\n",
    "     zeros(nR,nm)                  zeros(nR,nR)            μ^4*eye(nR)];\n"
   ]
  },
  {
   "cell_type": "code",
   "execution_count": 16,
   "metadata": {},
   "outputs": [],
   "source": [
    "H = K;\n"
   ]
  },
  {
   "cell_type": "code",
   "execution_count": 17,
   "metadata": {},
   "outputs": [],
   "source": [
    "P = [eye(nm)      -α*B           zeros(nm,nR);\n",
    "     zeros(nR,nm)  eye(nR)      -eye(nR);\n",
    "     zeros(nR,nm)  zeros(nR,nR)  eye(nR)]\n",
    "iP = P^-1;\n"
   ]
  },
  {
   "cell_type": "markdown",
   "metadata": {},
   "source": [
    "Multiplying both sides of the equation by $\\bf (NMN)^{-1}$ and defining $2\\beta=\\frac{\\omega_0}{Q}$ we get\n",
    "$$\n",
    " M_{\\rm eff}{\\bf NMN}\\ddot{\\boldsymbol{y}}+2\\beta M_{\\rm eff}{\\bf NKN}\\dot{\\boldsymbol{y}}+\n",
    " M_{\\rm eff}\\omega_0^2{\\bf NKN}\\boldsymbol{y}={\\bf NP}\\boldsymbol{F}\n",
    "$$\n",
    "Let us define the variables ${\\bf M}_y$, ${\\bf K}_y$ and ${\\bf P}_y$, where the subscript is the indicative that these matrices are of the equation for $\\boldsymbol{y}$. The equation then reads\n",
    "$$\n",
    " M_{\\rm eff}{\\bf M}_y\\ddot{\\boldsymbol{y}}+2\\beta M_{\\rm eff}{\\bf K}_y\\dot{\\boldsymbol{y}}+\n",
    " M_{\\rm eff}\\omega_0^2{\\bf K}_y\\boldsymbol{y}={\\bf P}_y\\boldsymbol{F}\n",
    "$$\n"
   ]
  },
  {
   "cell_type": "code",
   "execution_count": 18,
   "metadata": {},
   "outputs": [],
   "source": [
    "My = N*M*N\n",
    "Ky = N*K*N\n",
    "Py = N*P;\n"
   ]
  },
  {
   "cell_type": "markdown",
   "metadata": {},
   "source": [
    "Multiply both sides by ${\\bf M}_y^{-1}$\n",
    "$$\n",
    " M_{\\rm eff}\\ddot{\\boldsymbol{y}}+2\\beta M_{\\rm eff}{\\bf M}_y^{-1}{\\bf K}_y\\dot{\\boldsymbol{y}}+\n",
    " M_{\\rm eff}\\omega_0^2{\\bf M}_y^{-1}{\\bf K}_y\\boldsymbol{y}=\n",
    " {\\bf M}_y^{-1}{\\bf P}_y\\boldsymbol{F}\n",
    "$$\n",
    "Define ${\\bf K}_z={\\bf M}_y^{-1}{\\bf K}_y$ and ${\\bf P}_z={\\bf M}_y^{-1}{\\bf P}_y$\n",
    "$$\n",
    " M_{\\rm eff}\\ddot{\\boldsymbol{y}}+2\\beta M_{\\rm eff}{\\bf K}_z\\dot{\\boldsymbol{y}}+\n",
    " M_{\\rm eff}\\omega_0^2{\\bf K}_z\\boldsymbol{y}={\\bf P}_z\\boldsymbol{F}\n",
    "$$"
   ]
  },
  {
   "cell_type": "markdown",
   "metadata": {},
   "source": [
    "If the sphere frequencies are degenerate the matrix ${\\bf K}_z$ is symmetric, but if we use measured frequencies it is not, in fact"
   ]
  },
  {
   "cell_type": "code",
   "execution_count": 19,
   "metadata": {},
   "outputs": [],
   "source": [
    "Kz = My^-1*Ky\n",
    "Pz = My^-1*Py;\n"
   ]
  },
  {
   "cell_type": "code",
   "execution_count": 20,
   "metadata": {},
   "outputs": [
    {
     "data": {
      "text/plain": [
       "0.004348544500094459"
      ]
     },
     "execution_count": 20,
     "metadata": {},
     "output_type": "execute_result"
    }
   ],
   "source": [
    "sum(abs.(Kz-Kz'))\n"
   ]
  },
  {
   "cell_type": "markdown",
   "metadata": {},
   "source": [
    "If we use the measured frequencies the entry ${\\bf K}_{z12}\\neq{\\bf K}_{z21}$. But if we use the mean value of the frequencies, $\\omega_0$, for these two entries, the matrix is still symmetric. This is important for the eigenvectors be orthogonal. Let us use the natural frequencies measured $\\omega_{0n}$ only in ${\\bf K}_{z11}$."
   ]
  },
  {
   "cell_type": "code",
   "execution_count": 21,
   "metadata": {},
   "outputs": [],
   "source": [
    "for n in 1:5\n",
    "    Kz[n,n] = ω0n[n]^2 / ω0^2\n",
    "end\n"
   ]
  },
  {
   "cell_type": "markdown",
   "metadata": {},
   "source": [
    "Let the modal matrix $\\bf U$ diagonalize ${\\bf K}_z$"
   ]
  },
  {
   "cell_type": "code",
   "execution_count": 22,
   "metadata": {},
   "outputs": [
    {
     "data": {
      "text/plain": [
       "17-element Array{Float64,1}:\n",
       " 3158.446073555519\n",
       " 3164.9283163261425\n",
       " 3175.6219172635365\n",
       " 3177.1056915692407\n",
       " 3178.8441213380265\n",
       " 3183.4873905592453\n",
       " 3193.051252651603\n",
       " 3196.1368932200744\n",
       " 3210.140431109917\n",
       " 3214.357540861673\n",
       " 3219.9928411738265\n",
       " 3229.477519053068\n",
       " 3234.131464613305\n",
       " 3235.0633215339913\n",
       " 3240.9654106714797\n",
       " 3244.5642875622116\n",
       " 3254.2901126119687"
      ]
     },
     "execution_count": 22,
     "metadata": {},
     "output_type": "execute_result"
    }
   ],
   "source": [
    "Kz = (Kz+Kz')/2      # eigen is very sensitive to very small asymmetries       \n",
    "ω2, U = eigen(Kz)\n",
    "f17 =ω0*sqrt.(ω2)/2π\n"
   ]
  },
  {
   "cell_type": "markdown",
   "metadata": {},
   "source": [
    "Insert ${\\bf I}={\\bf U}{\\bf U}^T$ in the equation and pre multiply by ${\\bf U}^T$\n",
    "$$\n",
    " M_{\\rm eff}{\\bf U}^T\\ddot{\\boldsymbol{y}}+\n",
    " 2\\beta M_{\\rm eff}{\\bf U}^T{\\bf K}_z{\\bf U}{\\bf U}^T\\dot{\\boldsymbol{y}}+\n",
    " M_{\\rm eff}\\omega_0^2{\\bf U}^T{\\bf K}_z{\\bf U}{\\bf U}^T\\boldsymbol{y}=\n",
    " {\\bf U}^T{\\bf P}_z\\boldsymbol{F}\n",
    "$$\n",
    "Rewrite in terms of the normal coodinates $\\boldsymbol{z}={\\bf U}^T\\boldsymbol{y}$, define the diagonal matrix\n",
    "${\\bf D}={\\bf U}^T{\\bf K}_z{\\bf U}$ and take the Fourier transform\n",
    "$$\n",
    "         (-M_{\\rm eff}\\omega^2{\\bf I}+2j\\beta M_{\\rm eff}\\omega{\\bf D}+\n",
    "         M_{\\rm eff}\\omega_0^2{\\bf D})\\boldsymbol{\\tilde z}=\n",
    "         {\\bf U}^T{\\bf P}_z\\boldsymbol{\\tilde F}\n",
    "$$\n",
    "We find $\\boldsymbol{\\tilde z}$\n",
    "$$\n",
    "        \\boldsymbol{\\tilde z}={\\bf J}(\\omega){\\bf U}^T{\\bf P}_z\\boldsymbol{\\tilde F}\n",
    "$$\n",
    "where\n",
    "$$\n",
    "    {\\bf J}(\\omega)=\n",
    "    {\\rm diag}\\left(\\frac{1}{-M_{\\rm eff}\\omega^2+2j\\beta M_{\\rm eff}\\omega D_{11}+M_{\\rm eff}\\omega_0^2D_{11}},\n",
    "    \\cdots,\\frac{1}{-M_{\\rm eff}\\omega^2+2j\\beta M_{\\rm eff}\\omega D_{1717}+M_{\\rm eff}\\omega_0^2D_{1717}} \\right)\n",
    "$$\n",
    "Returning to the old variables \n",
    "$$\n",
    "    \\boldsymbol{\\tilde x}=\n",
    "    {\\bf NU}{\\bf J}(\\omega){\\bf U}^T{\\bf N}^{-1}{\\bf M}^{-1}{\\bf P}\\boldsymbol{\\tilde F}\n",
    "$$"
   ]
  },
  {
   "cell_type": "code",
   "execution_count": 23,
   "metadata": {},
   "outputs": [
    {
     "data": {
      "text/plain": [
       "J (generic function with 1 method)"
      ]
     },
     "execution_count": 23,
     "metadata": {},
     "output_type": "execute_result"
    }
   ],
   "source": [
    "D = U'*Kz*U\n",
    "# Inverse of J\n",
    "function iJ(w)\n",
    "    iJ = zeros(17,17)*im\n",
    "    for k in 1:17\n",
    "        iJ[k,k] = -Meff*w^2+2im*β*Meff*ω0*D[k,k]+Meff*ω0^2*D[k,k]\n",
    "    end\n",
    "    iJ\n",
    "end\n",
    "function J(w)\n",
    "    J = zeros(17,17)*im\n",
    "    for k in 1:17\n",
    "        J[k,k] = 1/(-Meff*w^2+2im*β*Meff*ω0*D[k,k]+Meff*ω0^2*D[k,k])\n",
    "    end\n",
    "    J\n",
    "end\n"
   ]
  },
  {
   "cell_type": "code",
   "execution_count": 24,
   "metadata": {},
   "outputs": [
    {
     "data": {
      "text/plain": [
       "17×17 Array{Float64,2}:\n",
       "  0.970312     -1.89735e-15   4.64906e-16  …   1.30104e-17   1.04083e-17\n",
       " -1.90039e-15   0.974299      3.43475e-16     -2.498e-16     5.37764e-17\n",
       "  4.66641e-16   3.60822e-16   0.980894         6.245e-17     1.11022e-16\n",
       "  2.68015e-16   1.97758e-16  -1.77636e-15     -2.42861e-16  -8.32667e-17\n",
       "  1.04083e-16   2.84495e-16  -6.10623e-16     -1.38778e-16  -9.71445e-17\n",
       " -6.50521e-16   5.20417e-16   2.28983e-15  …  -3.60822e-16  -7.28584e-17\n",
       " -2.04697e-16  -2.91434e-16  -1.17961e-16      7.97973e-17  -2.84495e-16\n",
       " -2.08167e-16  -1.21431e-16  -8.32667e-17      3.43475e-16   1.21431e-16\n",
       " -1.04083e-17   3.19189e-16   3.05311e-16     -4.16334e-17   2.77556e-17\n",
       "  7.63278e-17   0.0           6.93889e-17     -1.11022e-16   6.245e-17\n",
       "  1.75207e-16  -3.43475e-16  -2.77556e-17  …   1.80411e-16  -1.56125e-16\n",
       " -2.42861e-16  -1.17961e-16   2.77556e-17      1.249e-16    -3.22659e-16\n",
       "  1.9559e-16   -1.51788e-16   7.63278e-17      4.33681e-17  -1.11022e-16\n",
       " -1.12757e-17   9.02056e-17   4.85723e-17     -6.59195e-17   1.63064e-16\n",
       "  2.41127e-16  -9.71445e-17  -1.11022e-16     -2.42861e-16  -7.97973e-17\n",
       " -2.1684e-17   -2.39392e-16   4.16334e-17  …   1.02395      -6.59195e-17\n",
       " -6.93889e-18   3.64292e-17   1.73472e-16     -5.37764e-17   1.03009"
      ]
     },
     "execution_count": 24,
     "metadata": {},
     "output_type": "execute_result"
    }
   ],
   "source": [
    "D\n"
   ]
  },
  {
   "cell_type": "markdown",
   "metadata": {},
   "source": [
    "Defining the transfer function ${\\bf L}={\\bf NU}{\\bf J}(\\omega){\\bf U}^T{\\bf N}^{-1}{\\bf M}^{-1}{\\bf P}$ results\n",
    "$$\n",
    "    \\boldsymbol{\\tilde x}={\\bf L}(\\omega)\\boldsymbol{\\tilde F}\n",
    "$$\n",
    "Explicitely\n",
    "$$\n",
    "     \\left[\n",
    "        \\begin{array}{c}\n",
    "            \\boldsymbol{\\tilde a}\\\\ \\boldsymbol{\\tilde q}_{R_1} \\\\ \\boldsymbol{\\tilde q}_{R_2} \n",
    "        \\end{array}\\right]=\n",
    "    \\left[\n",
    "        \\begin{array}{ccc}\n",
    "            {\\bf L}_{11}  & {\\bf L}_{12}  & {\\bf L}_{13} \\\\\n",
    "            {\\bf L}_{21}  & {\\bf L}_{22}  & {\\bf L}_{23} \\\\\n",
    "            {\\bf L}_{31}  & {\\bf L}_{32}  & {\\bf L}_{33}\n",
    "        \\end{array}\\right]\n",
    "   \\left[\n",
    "        \\begin{array}{c}\n",
    "            \\boldsymbol{F}_S\\\\ \\boldsymbol{F}_{R_1} \\\\ \\boldsymbol{F}_{R_2} \n",
    "        \\end{array}\\right]    \n",
    "$$\n",
    "For using the fluctuation dissipation theorem is convenient tor write this expression in terms of the velocity\n",
    "$$\n",
    "    \\boldsymbol{v}=\\frac{d\\boldsymbol{x}}{dt}\n",
    "$$\n",
    "Take the Fourier transform \n",
    "$$\n",
    "    \\boldsymbol{\\tilde v}=j\\omega\\boldsymbol{\\tilde x}\n",
    "    \\qquad\\therefore\\qquad\n",
    "    \\boldsymbol{\\tilde x}=\\frac{\\boldsymbol{\\tilde v}}{j\\omega}\n",
    "$$\n",
    "Then\n",
    "$$\n",
    "    \\boldsymbol{\\tilde v}=j\\omega{\\bf L}(\\omega)\\boldsymbol{\\tilde F}={\\bf Y}(\\omega)\\boldsymbol{\\tilde F}\n",
    "$$\n",
    "where ${\\bf Y}$ is the admitance of the system.\n",
    "### Detector sensitivity\n",
    "The measurable quantity is $\\boldsymbol{\\tilde q}_{R_2}$ and when it only due to the GW it is\n",
    "$$\n",
    "     \\left[\n",
    "        \\begin{array}{c}\n",
    "            \\boldsymbol{\\tilde a}^{GW}\\\\ \\boldsymbol{\\tilde q}_{R_1}^{GW} \\\\ \\boldsymbol{\\tilde q}_{R_2}^{GW} \n",
    "        \\end{array}\\right]=\n",
    "    \\left[\n",
    "        \\begin{array}{ccc}\n",
    "            {\\bf L}_{11}  & {\\bf L}_{12}  & {\\bf L}_{13} \\\\\n",
    "            {\\bf L}_{21}  & {\\bf L}_{22}  & {\\bf L}_{23} \\\\\n",
    "            {\\bf L}_{31}  & {\\bf L}_{32}  & {\\bf L}_{33}\n",
    "        \\end{array}\\right]\n",
    "    \\left[\n",
    "        \\begin{array}{c}\n",
    "            \\boldsymbol{F}_S\\\\ \\boldsymbol{0} \\\\ \\boldsymbol{0} \n",
    "        \\end{array}\\right]=\n",
    "        \\left[\n",
    "        \\begin{array}{c}\n",
    "            {\\bf L}_{11}\\boldsymbol{F}_S \\\\ \n",
    "            {\\bf L}_{21}\\boldsymbol{F}_S \\\\ \n",
    "            {\\bf L}_{31}\\boldsymbol{F}_S \n",
    "        \\end{array}\\right]\n",
    "$$\n",
    "$$\n",
    "    \\boldsymbol{\\tilde q}_{R_2}^{GW}={\\bf L}_{31}\\boldsymbol{F}_S^{GW}=\n",
    "    \\left(-\\frac 12M_S\\chi Rw^2\\right){\\bf L}_{31}\\boldsymbol{h}\n",
    "$$\n",
    "When the filter is the matched filter the SNR can be written (see Usenko pag. 13, Zubakov pag. 85)\n",
    "$$\n",
    "    \\rho^2=\\frac{1}{2\\pi}\\int[\\boldsymbol{0}\\ \\boldsymbol{0}\\  \\boldsymbol{\\tilde q}_{R_2}^{GWH}]\n",
    "    {\\bf S}_{R_2R_2}^{-1}\n",
    "    \\left[\n",
    "        \\begin{array}{c}\n",
    "            \\boldsymbol{0}\\\\ \\boldsymbol{0} \\\\ \\boldsymbol{\\tilde q}_{R_2}^{GW}\n",
    "        \\end{array}\\right]dw.\n",
    "$$\n",
    "The fluctuation dissipation theorem stays that\n",
    "$$\n",
    "    {\\bf S}_{R_2R_2}=\\frac{4k_BT}{w^2}{\\cal R}({\\bf Y}(w))\n",
    "$$\n",
    "The sensitivity of the detector is obtained seaching for an input GW $\\boldsymbol{h}$ that mimics the termal\n",
    "noise at the output with $\\rho = 1$ per bandwidth. In other words we search for an $\\boldsymbol{h}$ such that\n",
    "$$\n",
    "    \\boldsymbol{\\tilde q}_{R_2}^{GWH}{\\bf R}_{33}\n",
    "    \\boldsymbol{\\tilde q}_{R_2}^{GW}=1\n",
    "$$\n",
    "where ${\\bf R}={\\bf S}_{R_2R_2}^{-1}$\n",
    "Now we write this equation in terms of the input variables\n",
    "$$\n",
    "    \\left(-\\frac 12M_S\\chi Rw^2\\right)^2\\boldsymbol{h}^H{\\bf L}_{31}^H\n",
    "    {\\bf R}_{33}\n",
    "    {\\bf L}_{31}\\boldsymbol{h}=1\n",
    "$$\n",
    "If we use $\\boldsymbol{h}$ as a scalar function $h_S(w)$ times the sum of the eigenvectors ${\\bf V}_i$ \n",
    "of the matrix ${\\bf L}_{31}^H{\\bf R}_{33}{\\bf L}_{31}$\n",
    "$$\n",
    "    \\boldsymbol{h}=h_S(w)({\\bf V}_1+{\\bf V}_2+{\\bf V}_3+{\\bf V}_4+{\\bf V}_5+{\\bf V}_6) \n",
    "$$\n",
    "then \n",
    "$$\n",
    "    \\boldsymbol{h}^H{\\bf L}_{31}^H{\\bf R}_{33}{\\bf L}_{31}\\boldsymbol{h}=\n",
    "    h_S^2(w){\\rm Tr}({\\bf L}_{31}^H{\\bf R}_{33}{\\bf L}_{31}).\n",
    "$$\n",
    "Then we obtain \n",
    "$$\n",
    "    h_S(w)=\\frac{1}{\\left(\\frac 12M_S\\chi Rw^2\\right)\\sqrt{{\\rm Tr}({\\bf L}_{31}^H{\\bf R}_{33}{\\bf L}_{31})}}\n",
    "$$"
   ]
  },
  {
   "cell_type": "code",
   "execution_count": 25,
   "metadata": {},
   "outputs": [
    {
     "data": {
      "text/plain": [
       "hS (generic function with 1 method)"
      ]
     },
     "execution_count": 25,
     "metadata": {},
     "output_type": "execute_result"
    }
   ],
   "source": [
    "L(w) = N*U*J(w)*U'*iN*iM*P\n",
    "iL(w) = iP*M*N*U*iJ(w)*U'*iN       # inverse of L\n",
    "Y(w) = im*w*L(w)\n",
    "Sxx(w) = 4kB*T/w^2*real(Y(w))\n",
    "iSxx(w) = Sxx(w)^-1\n",
    "L31(w) = L(w)[12:17,1:5]\n",
    "R33(w) = iSxx(w)[12:17,12:17]\n",
    "hS(w) = sqrt(1/abs(tr(L31(w)'*R33(w)*L31(w))))/(1/2*MS*χ*R*w^2)\n"
   ]
  },
  {
   "cell_type": "code",
   "execution_count": 26,
   "metadata": {},
   "outputs": [
    {
     "data": {
      "image/png": "[encoded data removed]",
      "text/plain": [
       "Figure(PyObject <Figure size 640x480 with 1 Axes>)"
      ]
     },
     "metadata": {},
     "output_type": "display_data"
    }
   ],
   "source": [
    "af = 3100:0.1:3300\n",
    "ahs = zeros(length(af))\n",
    "for (i,f) in enumerate(af)\n",
    "    ahs[i] = hS(2π*f)\n",
    "end\n",
    "figure(1)\n",
    "    semilogy(af,ahs)\n",
    "    title(\"Schenberg sensitivity\")\n",
    "    xlabel(L\"$f$ [Hz]\")\n",
    "    ylabel(L\"$h_S$ [Hz]$^{-1/2}$\")\n",
    "    grid(true, which=\"minor\")\n",
    "    grid(true, which=\"both\")\n"
   ]
  },
  {
   "cell_type": "code",
   "execution_count": null,
   "metadata": {},
   "outputs": [],
   "source": []
  }
 ],
 "metadata": {
  "kernelspec": {
   "display_name": "Julia 1.5.2",
   "language": "julia",
   "name": "julia-1.5"
  },
  "language_info": {
   "file_extension": ".jl",
   "mimetype": "application/julia",
   "name": "julia",
   "version": "1.5.2"
  }
 },
 "nbformat": 4,
 "nbformat_minor": 2
}
